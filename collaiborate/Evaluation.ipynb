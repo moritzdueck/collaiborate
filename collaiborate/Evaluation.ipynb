{
 "cells": [
  {
   "cell_type": "code",
   "execution_count": 12,
   "id": "218eb5f2",
   "metadata": {},
   "outputs": [
    {
     "data": {
      "text/plain": [
       "<torch._C.Generator at 0x7ffe27df6f10>"
      ]
     },
     "execution_count": 12,
     "metadata": {},
     "output_type": "execute_result"
    }
   ],
   "source": [
    "from typing import List, Optional\n",
    "import urllib.request\n",
    "from tqdm import tqdm\n",
    "from pathlib import Path\n",
    "import requests\n",
    "import torch\n",
    "import math\n",
    "import numpy as np\n",
    "import os\n",
    "import glob\n",
    "import matplotlib.pyplot as plt\n",
    "import random\n",
    "from torch.utils.tensorboard import SummaryWriter\n",
    "from torch.utils.data import DataLoader\n",
    "\n",
    "import torch.nn as nn\n",
    "\n",
    "\n",
    "torch.manual_seed(0)\n",
    "random.seed(0)\n",
    "np.random.seed(0)\n",
    "\n",
    "def seed_worker(worker_id):\n",
    "    worker_seed = torch.initial_seed() % 2**32\n",
    "    numpy.random.seed(worker_seed)\n",
    "    random.seed(worker_seed)\n",
    "\n",
    "g = torch.Generator()\n",
    "g.manual_seed(0)\n"
   ]
  },
  {
   "cell_type": "code",
   "execution_count": 3,
   "id": "2c12d874",
   "metadata": {},
   "outputs": [],
   "source": [
    "from utils import *"
   ]
  },
  {
   "cell_type": "code",
   "execution_count": 6,
   "id": "1556d157",
   "metadata": {
    "scrolled": true
   },
   "outputs": [
    {
     "name": "stdout",
     "output_type": "stream",
     "text": [
      "Downloading Quickdraw Dataset...\n"
     ]
    },
    {
     "name": "stderr",
     "output_type": "stream",
     "text": [
      "100%|███████████████████████████████████████████████████████████████████████████████████████████████████████| 15/15 [00:00<00:00, 1018.60it/s]\n"
     ]
    },
    {
     "name": "stdout",
     "output_type": "stream",
     "text": [
      "Loading 100000 examples for each class from the Quickdraw Dataset...\n"
     ]
    },
    {
     "name": "stderr",
     "output_type": "stream",
     "text": [
      "100%|█████████████████████████████████████████████████████████████████████████████████████████████████████████| 15/15 [00:22<00:00,  1.48s/it]\n"
     ]
    }
   ],
   "source": [
    "# given the random seeds and arguments are the same, this \"should\" give the same train/test split..\n",
    "# TODO: find better way to persist train/test split\n",
    "\n",
    "download_quickdraw_dataset(root=\"../data/npy\", class_names = ['airplane', 'apple', 'wine bottle', 'car', 'mouth', 'pineapple', 'umbrella', 'pear', 'moustache', 'smiley face'] + ['train', 'mosquito', 'bee', 'dragon', 'piano'])\n",
    "dataset = QuickDrawDataset(root = \"../data/npy\", max_items_per_class=100000)\n",
    "\n",
    "train_ds, val_ds = dataset.split(0.2)\n",
    "validation_dataloader = DataLoader(val_ds, batch_size=1, shuffle=False)"
   ]
  },
  {
   "cell_type": "code",
   "execution_count": 17,
   "id": "869c574c",
   "metadata": {},
   "outputs": [],
   "source": [
    "model = nn.Sequential(\n",
    "   nn.Conv2d(1, 16, 3, padding='same'),\n",
    "   nn.ReLU(),\n",
    "   nn.MaxPool2d(2),\n",
    "   nn.Conv2d(16, 32, 3, padding='same'),\n",
    "   nn.ReLU(),\n",
    "   nn.MaxPool2d(2),\n",
    "   nn.Conv2d(32, 32, 3, padding='same'),\n",
    "   nn.ReLU(),\n",
    "   nn.MaxPool2d(2),\n",
    "   nn.Flatten(),\n",
    "   nn.Linear(288, 128),\n",
    "   nn.ReLU(),\n",
    "   nn.Linear(128, len(dataset.classes)),\n",
    ")"
   ]
  },
  {
   "cell_type": "code",
   "execution_count": 21,
   "id": "b964a52a",
   "metadata": {},
   "outputs": [
    {
     "data": {
      "text/plain": [
       "Sequential(\n",
       "  (0): Conv2d(1, 16, kernel_size=(3, 3), stride=(1, 1), padding=same)\n",
       "  (1): ReLU()\n",
       "  (2): MaxPool2d(kernel_size=2, stride=2, padding=0, dilation=1, ceil_mode=False)\n",
       "  (3): Conv2d(16, 32, kernel_size=(3, 3), stride=(1, 1), padding=same)\n",
       "  (4): ReLU()\n",
       "  (5): MaxPool2d(kernel_size=2, stride=2, padding=0, dilation=1, ceil_mode=False)\n",
       "  (6): Conv2d(32, 32, kernel_size=(3, 3), stride=(1, 1), padding=same)\n",
       "  (7): ReLU()\n",
       "  (8): MaxPool2d(kernel_size=2, stride=2, padding=0, dilation=1, ceil_mode=False)\n",
       "  (9): Flatten(start_dim=1, end_dim=-1)\n",
       "  (10): Linear(in_features=288, out_features=128, bias=True)\n",
       "  (11): ReLU()\n",
       "  (12): Linear(in_features=128, out_features=15, bias=True)\n",
       ")"
      ]
     },
     "execution_count": 21,
     "metadata": {},
     "output_type": "execute_result"
    }
   ],
   "source": [
    "checkpoint = torch.load('./model_lessCapacity.pth',  map_location=torch.device('cpu'))\n",
    "model.load_state_dict(checkpoint)\n",
    "\n",
    "model.eval()"
   ]
  },
  {
   "cell_type": "code",
   "execution_count": 36,
   "id": "9e1f40a7",
   "metadata": {},
   "outputs": [],
   "source": [
    "stats = [{\"idx\": i, \"label\": dataset.classes[i], \"count\": 0, \"correct\": 0} for i in range(15)]\n",
    "\n",
    "for i, batch in enumerate(validation_dataloader, 0):\n",
    "    x, y = batch\n",
    "    logits = model(x)\n",
    "    y_hat = np.argmax(logits.detach().numpy())\n",
    "    \n",
    "    class_idx = y.item()\n",
    "    \n",
    "    stats[class_idx][\"count\"] += 1\n",
    "    if(y.item() == y_hat):\n",
    "        stats[class_idx][\"correct\"] += 1\n",
    "        "
   ]
  },
  {
   "cell_type": "code",
   "execution_count": 38,
   "id": "02c2c1c9",
   "metadata": {},
   "outputs": [],
   "source": [
    "import pandas as pd\n",
    "df = pd.DataFrame.from_dict(stats).set_index('idx')\n",
    "df['accuracy'] = df['correct']/df['count']\n"
   ]
  },
  {
   "cell_type": "code",
   "execution_count": 57,
   "id": "e7c652f2",
   "metadata": {},
   "outputs": [],
   "source": [
    "## manual mapping could be done better...\n",
    "\n",
    "df['category'] = ['convergent' for i in range(15)]\n",
    "\n",
    "df.at[2, 'category'] = 'divergent'\n",
    "df.at[4, 'category'] = 'divergent'\n",
    "df.at[5, 'category'] = 'divergent'\n",
    "df.at[9, 'category'] = 'divergent'\n",
    "df.at[12, 'category'] = 'divergent'\n"
   ]
  },
  {
   "cell_type": "code",
   "execution_count": 66,
   "id": "d4ff5f89",
   "metadata": {},
   "outputs": [
    {
     "data": {
      "text/plain": [
       "0.9380084564409474"
      ]
     },
     "execution_count": 66,
     "metadata": {},
     "output_type": "execute_result"
    }
   ],
   "source": [
    "df[df.category == 'convergent'].accuracy.mean()"
   ]
  },
  {
   "cell_type": "code",
   "execution_count": 67,
   "id": "fe68457b",
   "metadata": {},
   "outputs": [
    {
     "data": {
      "text/html": [
       "<div>\n",
       "<style scoped>\n",
       "    .dataframe tbody tr th:only-of-type {\n",
       "        vertical-align: middle;\n",
       "    }\n",
       "\n",
       "    .dataframe tbody tr th {\n",
       "        vertical-align: top;\n",
       "    }\n",
       "\n",
       "    .dataframe thead th {\n",
       "        text-align: right;\n",
       "    }\n",
       "</style>\n",
       "<table border=\"1\" class=\"dataframe\">\n",
       "  <thead>\n",
       "    <tr style=\"text-align: right;\">\n",
       "      <th></th>\n",
       "      <th>label</th>\n",
       "      <th>count</th>\n",
       "      <th>correct</th>\n",
       "      <th>accuracy</th>\n",
       "      <th>category</th>\n",
       "    </tr>\n",
       "    <tr>\n",
       "      <th>idx</th>\n",
       "      <th></th>\n",
       "      <th></th>\n",
       "      <th></th>\n",
       "      <th></th>\n",
       "      <th></th>\n",
       "    </tr>\n",
       "  </thead>\n",
       "  <tbody>\n",
       "    <tr>\n",
       "      <th>0</th>\n",
       "      <td>airplane</td>\n",
       "      <td>19946</td>\n",
       "      <td>18126</td>\n",
       "      <td>0.908754</td>\n",
       "      <td>convergent</td>\n",
       "    </tr>\n",
       "    <tr>\n",
       "      <th>1</th>\n",
       "      <td>apple</td>\n",
       "      <td>19961</td>\n",
       "      <td>18964</td>\n",
       "      <td>0.950053</td>\n",
       "      <td>convergent</td>\n",
       "    </tr>\n",
       "    <tr>\n",
       "      <th>2</th>\n",
       "      <td>bee</td>\n",
       "      <td>19941</td>\n",
       "      <td>18041</td>\n",
       "      <td>0.904719</td>\n",
       "      <td>divergent</td>\n",
       "    </tr>\n",
       "    <tr>\n",
       "      <th>3</th>\n",
       "      <td>car</td>\n",
       "      <td>20118</td>\n",
       "      <td>18934</td>\n",
       "      <td>0.941147</td>\n",
       "      <td>convergent</td>\n",
       "    </tr>\n",
       "    <tr>\n",
       "      <th>4</th>\n",
       "      <td>dragon</td>\n",
       "      <td>19811</td>\n",
       "      <td>16466</td>\n",
       "      <td>0.831154</td>\n",
       "      <td>divergent</td>\n",
       "    </tr>\n",
       "    <tr>\n",
       "      <th>5</th>\n",
       "      <td>mosquito</td>\n",
       "      <td>20247</td>\n",
       "      <td>16779</td>\n",
       "      <td>0.828715</td>\n",
       "      <td>divergent</td>\n",
       "    </tr>\n",
       "    <tr>\n",
       "      <th>6</th>\n",
       "      <td>moustache</td>\n",
       "      <td>20114</td>\n",
       "      <td>18099</td>\n",
       "      <td>0.899821</td>\n",
       "      <td>convergent</td>\n",
       "    </tr>\n",
       "    <tr>\n",
       "      <th>7</th>\n",
       "      <td>mouth</td>\n",
       "      <td>20240</td>\n",
       "      <td>18619</td>\n",
       "      <td>0.919911</td>\n",
       "      <td>convergent</td>\n",
       "    </tr>\n",
       "    <tr>\n",
       "      <th>8</th>\n",
       "      <td>pear</td>\n",
       "      <td>20019</td>\n",
       "      <td>18181</td>\n",
       "      <td>0.908187</td>\n",
       "      <td>convergent</td>\n",
       "    </tr>\n",
       "    <tr>\n",
       "      <th>9</th>\n",
       "      <td>piano</td>\n",
       "      <td>19962</td>\n",
       "      <td>19009</td>\n",
       "      <td>0.952259</td>\n",
       "      <td>divergent</td>\n",
       "    </tr>\n",
       "    <tr>\n",
       "      <th>10</th>\n",
       "      <td>pineapple</td>\n",
       "      <td>19868</td>\n",
       "      <td>18980</td>\n",
       "      <td>0.955305</td>\n",
       "      <td>convergent</td>\n",
       "    </tr>\n",
       "    <tr>\n",
       "      <th>11</th>\n",
       "      <td>smiley face</td>\n",
       "      <td>19983</td>\n",
       "      <td>19230</td>\n",
       "      <td>0.962318</td>\n",
       "      <td>convergent</td>\n",
       "    </tr>\n",
       "    <tr>\n",
       "      <th>12</th>\n",
       "      <td>train</td>\n",
       "      <td>20009</td>\n",
       "      <td>18679</td>\n",
       "      <td>0.933530</td>\n",
       "      <td>divergent</td>\n",
       "    </tr>\n",
       "    <tr>\n",
       "      <th>13</th>\n",
       "      <td>umbrella</td>\n",
       "      <td>19919</td>\n",
       "      <td>19289</td>\n",
       "      <td>0.968372</td>\n",
       "      <td>convergent</td>\n",
       "    </tr>\n",
       "    <tr>\n",
       "      <th>14</th>\n",
       "      <td>wine bottle</td>\n",
       "      <td>19862</td>\n",
       "      <td>19191</td>\n",
       "      <td>0.966217</td>\n",
       "      <td>convergent</td>\n",
       "    </tr>\n",
       "  </tbody>\n",
       "</table>\n",
       "</div>"
      ],
      "text/plain": [
       "           label  count  correct  accuracy    category\n",
       "idx                                                   \n",
       "0       airplane  19946    18126  0.908754  convergent\n",
       "1          apple  19961    18964  0.950053  convergent\n",
       "2            bee  19941    18041  0.904719   divergent\n",
       "3            car  20118    18934  0.941147  convergent\n",
       "4         dragon  19811    16466  0.831154   divergent\n",
       "5       mosquito  20247    16779  0.828715   divergent\n",
       "6      moustache  20114    18099  0.899821  convergent\n",
       "7          mouth  20240    18619  0.919911  convergent\n",
       "8           pear  20019    18181  0.908187  convergent\n",
       "9          piano  19962    19009  0.952259   divergent\n",
       "10     pineapple  19868    18980  0.955305  convergent\n",
       "11   smiley face  19983    19230  0.962318  convergent\n",
       "12         train  20009    18679  0.933530   divergent\n",
       "13      umbrella  19919    19289  0.968372  convergent\n",
       "14   wine bottle  19862    19191  0.966217  convergent"
      ]
     },
     "execution_count": 67,
     "metadata": {},
     "output_type": "execute_result"
    }
   ],
   "source": [
    "df"
   ]
  }
 ],
 "metadata": {
  "kernelspec": {
   "display_name": "Python [conda env:quickdraw] *",
   "language": "python",
   "name": "conda-env-quickdraw-py"
  },
  "language_info": {
   "codemirror_mode": {
    "name": "ipython",
    "version": 3
   },
   "file_extension": ".py",
   "mimetype": "text/x-python",
   "name": "python",
   "nbconvert_exporter": "python",
   "pygments_lexer": "ipython3",
   "version": "3.9.7"
  }
 },
 "nbformat": 4,
 "nbformat_minor": 5
}
