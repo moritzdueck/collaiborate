{
 "cells": [
  {
   "cell_type": "code",
   "execution_count": null,
   "id": "218eb5f2",
   "metadata": {},
   "outputs": [],
   "source": [
    "from typing import List, Optional\n",
    "import urllib.request\n",
    "from tqdm import tqdm\n",
    "from pathlib import Path\n",
    "import requests\n",
    "import torch\n",
    "import math\n",
    "import numpy as np\n",
    "import os\n",
    "import glob\n",
    "import matplotlib.pyplot as plt\n",
    "import random\n",
    "from torch.utils.tensorboard import SummaryWriter\n",
    "from torch.utils.data import DataLoader\n",
    "import pandas as pd\n",
    "import sklearn.metrics\n",
    "import seaborn as sb\n",
    "\n",
    "import torch.nn as nn\n",
    "\n",
    "\n",
    "torch.manual_seed(0)\n",
    "random.seed(0)\n",
    "np.random.seed(0)\n",
    "\n",
    "def seed_worker(worker_id):\n",
    "    worker_seed = torch.initial_seed() % 2**32\n",
    "    numpy.random.seed(worker_seed)\n",
    "    random.seed(worker_seed)\n",
    "\n",
    "g = torch.Generator()\n",
    "g.manual_seed(0)\n"
   ]
  },
  {
   "cell_type": "code",
   "execution_count": null,
   "id": "2c12d874",
   "metadata": {},
   "outputs": [],
   "source": [
    "import utils"
   ]
  },
  {
   "cell_type": "code",
   "execution_count": null,
   "id": "776cc77c",
   "metadata": {},
   "outputs": [],
   "source": [
    "import importlib\n",
    "importlib.reload(utils)"
   ]
  },
  {
   "cell_type": "code",
   "execution_count": null,
   "id": "1556d157",
   "metadata": {
    "scrolled": true
   },
   "outputs": [],
   "source": [
    "# given the random seeds and arguments are the same, this \"should\" give the same train/test split..\n",
    "# TODO: find better way to persist train/test split\n",
    "\n",
    "utils.download_quickdraw_dataset(root=\"../data/npy\", class_names = ['airplane', 'apple', 'wine bottle', 'car', 'mouth', 'pineapple', 'umbrella', 'pear', 'moustache', 'smiley face'] + ['train', 'mosquito', 'bee', 'dragon', 'piano'])\n",
    "dataset = utils.QuickDrawDataset(root = \"../data/npy\", max_items_per_class=100000)\n",
    "\n",
    "train_ds, val_ds = dataset.split(0.2)\n",
    "validation_dataloader = DataLoader(val_ds, batch_size=1, shuffle=False)"
   ]
  },
  {
   "cell_type": "code",
   "execution_count": null,
   "id": "869c574c",
   "metadata": {},
   "outputs": [],
   "source": [
    "model = nn.Sequential(\n",
    "   nn.Conv2d(1, 16, 3, padding='same'),\n",
    "   nn.ReLU(),\n",
    "   nn.MaxPool2d(2),\n",
    "   nn.Conv2d(16, 32, 3, padding='same'),\n",
    "   nn.ReLU(),\n",
    "   nn.MaxPool2d(2),\n",
    "   nn.Conv2d(32, 32, 3, padding='same'),\n",
    "   nn.ReLU(),\n",
    "   nn.MaxPool2d(2),\n",
    "   nn.Flatten(),\n",
    "   nn.Linear(288, 128),\n",
    "   nn.ReLU(),\n",
    "   nn.Linear(128, len(dataset.classes)),\n",
    ")"
   ]
  },
  {
   "cell_type": "code",
   "execution_count": null,
   "id": "b964a52a",
   "metadata": {},
   "outputs": [],
   "source": [
    "checkpoint = torch.load('./model_lessCapacity.pth',  map_location=torch.device('cpu'))\n",
    "model.load_state_dict(checkpoint)\n",
    "\n",
    "model.eval()"
   ]
  },
  {
   "cell_type": "code",
   "execution_count": null,
   "id": "9e1f40a7",
   "metadata": {},
   "outputs": [],
   "source": [
    "stats = [{\"idx\": i, \"label\": dataset.classes[i], \"count\": 0, \"correct\": 0} for i in range(15)]\n",
    "\n",
    "for i, batch in enumerate(validation_dataloader, 0):\n",
    "    x, y, idx = batch\n",
    "    logits = model(x)\n",
    "    y_hat = np.argmax(logits.detach().numpy())\n",
    "    \n",
    "    class_idx = y.item()\n",
    "    \n",
    "    stats[class_idx][\"count\"] += 1\n",
    "    if(y.item() == y_hat):\n",
    "        stats[class_idx][\"correct\"] += 1\n",
    "        "
   ]
  },
  {
   "cell_type": "code",
   "execution_count": null,
   "id": "02c2c1c9",
   "metadata": {},
   "outputs": [],
   "source": [
    "df = pd.DataFrame.from_dict(stats).set_index('idx')\n",
    "df['accuracy'] = df['correct']/df['count']\n"
   ]
  },
  {
   "cell_type": "code",
   "execution_count": null,
   "id": "e7c652f2",
   "metadata": {},
   "outputs": [],
   "source": [
    "## manual mapping could be done better...\n",
    "\n",
    "df['category'] = ['convergent' for i in range(15)]\n",
    "\n",
    "df.at[2, 'category'] = 'divergent'\n",
    "df.at[4, 'category'] = 'divergent'\n",
    "df.at[5, 'category'] = 'divergent'\n",
    "df.at[9, 'category'] = 'divergent'\n",
    "df.at[12, 'category'] = 'divergent'\n"
   ]
  },
  {
   "cell_type": "code",
   "execution_count": null,
   "id": "d4ff5f89",
   "metadata": {},
   "outputs": [],
   "source": [
    "df[df.category == 'convergent'].accuracy.mean()"
   ]
  },
  {
   "cell_type": "code",
   "execution_count": null,
   "id": "fe68457b",
   "metadata": {
    "scrolled": true
   },
   "outputs": [],
   "source": [
    "df"
   ]
  },
  {
   "cell_type": "code",
   "execution_count": null,
   "id": "61630463",
   "metadata": {
    "scrolled": false
   },
   "outputs": [],
   "source": [
    "indices = [i*100000 for i in range(13)]\n",
    "indices = [i + j for j in range(30) for i in indices]\n",
    "for idx in indices:\n",
    "    plt.figure()\n",
    "    plt.imshow(dataset[idx][0].reshape(28,28,1), cmap='Greys')\n",
    "    #plt.title(dataset.classes[dataset[idx][1]])\n",
    "    plt.axis('off')\n",
    "    plt.savefig(dataset.classes[dataset[idx][1]] +  str(idx) + '.png', bbox_inches='tight')"
   ]
  },
  {
   "cell_type": "code",
   "execution_count": null,
   "id": "643e2083",
   "metadata": {},
   "outputs": [],
   "source": [
    "idx = 300000"
   ]
  },
  {
   "cell_type": "code",
   "execution_count": null,
   "id": "5d3b0fa9",
   "metadata": {},
   "outputs": [],
   "source": [
    "idx += +1\n",
    "plt.figure()\n",
    "plt.imshow(dataset[idx][0].reshape(28,28,1), cmap='Greys')\n",
    "#plt.title(dataset.classes[dataset[idx][1]])\n",
    "plt.axis('off')\n",
    "plt.show()\n",
    "\n"
   ]
  },
  {
   "cell_type": "markdown",
   "id": "e2c86127",
   "metadata": {},
   "source": [
    "## Confusion Matrix"
   ]
  },
  {
   "cell_type": "code",
   "execution_count": null,
   "id": "ec8d19d3",
   "metadata": {},
   "outputs": [],
   "source": [
    "columns = ['index', 'y', 'y_hat', 'logits', 'probs']\n",
    "predictions = []\n",
    "\n",
    "for i, batch in tqdm(enumerate(validation_dataloader, 0)):\n",
    "    x, y, idx = batch\n",
    "    logits = model(x)\n",
    "\n",
    "    logits = logits.detach().numpy()\n",
    "    probs = np.exp(logits)/np.exp(logits).sum()\n",
    "\n",
    "    y_hat = np.argmax(logits)\n",
    "    \n",
    "    class_idx = y.item()\n",
    "    \n",
    "    predictions.append([idx, y, y_hat, logits, probs])\n",
    "        "
   ]
  },
  {
   "cell_type": "code",
   "execution_count": null,
   "id": "c0d729f8",
   "metadata": {},
   "outputs": [],
   "source": [
    "df2 = pd.DataFrame(predictions, columns=columns)\n",
    "df2.y = df2.y.apply(lambda x: x[0].item())"
   ]
  },
  {
   "cell_type": "code",
   "execution_count": null,
   "id": "9cded239",
   "metadata": {},
   "outputs": [],
   "source": [
    "df2.y_hat"
   ]
  },
  {
   "cell_type": "code",
   "execution_count": null,
   "id": "df062161",
   "metadata": {
    "scrolled": true
   },
   "outputs": [],
   "source": [
    "cm = sklearn.metrics.confusion_matrix(list(df2.y), list(df2.y_hat), normalize='true')\n",
    "disp = sklearn.metrics.ConfusionMatrixDisplay(confusion_matrix=cm,display_labels=dataset.classes)\n",
    "fig, ax = plt.subplots(figsize=(15, 15))\n",
    "disp.plot(xticks_rotation='vertical', ax=ax, cmap='plasma')"
   ]
  },
  {
   "cell_type": "code",
   "execution_count": null,
   "id": "0d55ea91",
   "metadata": {},
   "outputs": [],
   "source": [
    "cm[:,4].sum()"
   ]
  },
  {
   "cell_type": "code",
   "execution_count": null,
   "id": "950469b3",
   "metadata": {},
   "outputs": [],
   "source": [
    "cm[4,:].sum()"
   ]
  },
  {
   "cell_type": "markdown",
   "id": "c5f9d2fb",
   "metadata": {},
   "source": [
    "## Metrics"
   ]
  },
  {
   "cell_type": "code",
   "execution_count": null,
   "id": "4989c2b6",
   "metadata": {},
   "outputs": [],
   "source": [
    "metrics = sklearn.metrics.precision_recall_fscore_support(list(df2.y), list(df2.y_hat)\n",
    "                                                         ,labels=range(len(dataset.classes)))\n"
   ]
  },
  {
   "cell_type": "code",
   "execution_count": null,
   "id": "a082d018",
   "metadata": {},
   "outputs": [],
   "source": [
    "df3 = pd.DataFrame(np.array(metrics).T, columns=['precision', 'recall', 'fscore', 'support'])\n"
   ]
  },
  {
   "cell_type": "code",
   "execution_count": null,
   "id": "808ef41b",
   "metadata": {},
   "outputs": [],
   "source": [
    "df3['className'] = dataset.classes"
   ]
  },
  {
   "cell_type": "code",
   "execution_count": null,
   "id": "8dbc03a1",
   "metadata": {
    "scrolled": true
   },
   "outputs": [],
   "source": [
    "df3"
   ]
  },
  {
   "cell_type": "markdown",
   "id": "447616a2",
   "metadata": {},
   "source": [
    "## ROC"
   ]
  },
  {
   "cell_type": "code",
   "execution_count": null,
   "id": "4039077f",
   "metadata": {},
   "outputs": [],
   "source": [
    "one_hot = np.zeros((df2.y_hat.size, df2.y_hat.max() + 1))\n",
    "one_hot[np.arange(df2.y_hat.size), df2.y_hat] = 1"
   ]
  },
  {
   "cell_type": "code",
   "execution_count": null,
   "id": "fd79fdfd",
   "metadata": {},
   "outputs": [],
   "source": [
    "logits_as_list = np.array(list(df2.logits.apply(lambda x: x[0])))"
   ]
  },
  {
   "cell_type": "code",
   "execution_count": null,
   "id": "d59e7a51",
   "metadata": {},
   "outputs": [],
   "source": [
    "sklearn.metrics.RocCurveDisplay.from_predictions(\n",
    "    one_hot.ravel(),\n",
    "    logits_as_list.ravel(),\n",
    "    name=\"micro-average OvR\",\n",
    "    color=\"darkorange\",\n",
    ")"
   ]
  },
  {
   "cell_type": "code",
   "execution_count": null,
   "id": "1f956994",
   "metadata": {},
   "outputs": [],
   "source": [
    "import itertools\n",
    "fig, ax = plt.subplots(figsize=(10, 10))\n",
    "# classes for which AUC is the worst\n",
    "for class_id in [4,5,6,8,12]:\n",
    "    sklearn.metrics.RocCurveDisplay.from_predictions(\n",
    "        one_hot[:, class_id],\n",
    "        logits_as_list[:, class_id],\n",
    "        name=f\"ROC curve for {dataset.classes[class_id]}\",\n",
    "        ax=ax,\n",
    "    )"
   ]
  },
  {
   "cell_type": "markdown",
   "id": "bc15529a",
   "metadata": {},
   "source": [
    "## Boxplot"
   ]
  },
  {
   "cell_type": "code",
   "execution_count": null,
   "id": "06f42894",
   "metadata": {},
   "outputs": [],
   "source": [
    "df2['probs']"
   ]
  },
  {
   "cell_type": "code",
   "execution_count": null,
   "id": "0bea9e46",
   "metadata": {},
   "outputs": [],
   "source": [
    "dfx = df2.join(pd.DataFrame(list(df2['probs'].apply(lambda x : x[0])), columns=dataset.classes))\n",
    "dfx['y_class'] = dfx.y.apply(lambda x : dataset.classes[x])"
   ]
  },
  {
   "cell_type": "code",
   "execution_count": null,
   "id": "abab2a79",
   "metadata": {
    "scrolled": false
   },
   "outputs": [],
   "source": [
    "dfx['pred_prob_for_true_class'] = dfx.apply(lambda x: x.probs[0][x.y], axis=1)"
   ]
  },
  {
   "cell_type": "code",
   "execution_count": null,
   "id": "6231ef90",
   "metadata": {},
   "outputs": [],
   "source": [
    "chart = sb.violinplot(\n",
    "    x = 'y_class', \n",
    "    y = \"pred_prob_for_true_class\", \n",
    "    data = dfx, \n",
    "    inner=\"stick\", \n",
    "    cut=0, \n",
    "    linewidth=0)\n",
    "chart.set_xticklabels(chart.get_xticklabels(),rotation = 90)\n",
    "chart.set(xlabel='Classes', ylabel='Predicted Probabilities')"
   ]
  },
  {
   "cell_type": "code",
   "execution_count": null,
   "id": "62a64600",
   "metadata": {
    "scrolled": true
   },
   "outputs": [],
   "source": [
    "chart = sb.boxplot(\n",
    "    x = 'y_class', \n",
    "    y = \"pred_prob_for_true_class\", \n",
    "    data = dfx)\n",
    "chart.set_xticklabels(chart.get_xticklabels(),rotation = 90)\n",
    "chart.set(xlabel='Classes', ylabel='Predicted Probabilities')"
   ]
  },
  {
   "cell_type": "markdown",
   "id": "3078b526",
   "metadata": {},
   "source": [
    "## Single class"
   ]
  },
  {
   "cell_type": "code",
   "execution_count": null,
   "id": "92486893",
   "metadata": {},
   "outputs": [],
   "source": [
    "chart = sb.violinplot(\n",
    "    x = 'y_class', \n",
    "    y = \"mouth\", \n",
    "    data = dfx, \n",
    "    inner=\"stick\", \n",
    "    cut=0, \n",
    "    linewidth=0)\n",
    "chart.set_xticklabels(chart.get_xticklabels(),rotation = 90)\n",
    "chart.set(xlabel='Classes', ylabel='Predicted Probabilities')"
   ]
  },
  {
   "cell_type": "code",
   "execution_count": null,
   "id": "ca0434bc",
   "metadata": {},
   "outputs": [],
   "source": [
    "def boxplot_for_class(class_name):\n",
    "    chart = sb.boxplot(\n",
    "        x = 'y_class', \n",
    "        y = class_name, \n",
    "        data = dfx,\n",
    "        flierprops={\"marker\": \"x\"},\n",
    "        medianprops={\"color\": \"coral\"},\n",
    "        fliersize=1,\n",
    "        whis=[1, 99])\n",
    "    chart.set_xticklabels(chart.get_xticklabels(),rotation = 90)\n",
    "    chart.set(xlabel='Classes', \n",
    "              ylabel='Predicted Probabilities',\n",
    "              title=\"Predicted Probabilities for classes given true class is \"+class_name+\"\\nWhiskers are at 0.01 and 0.99 percentile\")\n"
   ]
  },
  {
   "cell_type": "code",
   "execution_count": null,
   "id": "f4f24ff4",
   "metadata": {
    "scrolled": true
   },
   "outputs": [],
   "source": [
    "boxplot_for_class(\"apple\")"
   ]
  },
  {
   "cell_type": "code",
   "execution_count": null,
   "id": "104dcf33",
   "metadata": {},
   "outputs": [],
   "source": [
    "dfe = dfx[dfx.columns.difference([\"logits\", \"probs\"])]\n",
    "dfe[\"index\"] = dfe[\"index\"].apply(lambda x : x.item())\n",
    "dfe[\"y_hat_class\"] = dfe[\"y_hat\"].apply(lambda x : dataset.classes[x])\n",
    "dfe.to_csv(\"evaluation_main_stats.csv\")"
   ]
  },
  {
   "cell_type": "markdown",
   "id": "c94fab52",
   "metadata": {},
   "source": [
    "# Single Predictions"
   ]
  },
  {
   "cell_type": "code",
   "execution_count": null,
   "id": "3074ed03",
   "metadata": {},
   "outputs": [],
   "source": [
    "index = np.random.randint(0, len(dataset))"
   ]
  },
  {
   "cell_type": "code",
   "execution_count": null,
   "id": "71e051bd",
   "metadata": {},
   "outputs": [],
   "source": [
    "def get_prediction(index):\n",
    "    batch = dataset[index]\n",
    "    x, y, idx = batch\n",
    "    x_batch = x.unsqueeze(dim=0)\n",
    "    logits = model(x_batch)\n",
    "\n",
    "    logits = logits.detach().numpy()\n",
    "    probs = np.exp(logits)/np.exp(logits).sum()\n",
    "    probs = probs[0]\n",
    "    y_hat = np.argmax(logits)\n",
    "    class_name = dataset.classes[y]\n",
    "    \n",
    "    fig, (ax1, ax2) = plt.subplots(1, 2, figsize=(10, 5))\n",
    "    ax1.bar(range(len(probs)),probs, tick_label=dataset.classes)\n",
    "    ax1.set_xticklabels(dataset.classes, rotation=90)\n",
    "    ax1.set_title(index)\n",
    "    plt.xticks()\n",
    "    ax2.imshow(x.reshape(28,28,1), cmap='Greys')\n",
    "    plt.title(dataset.classes[dataset[index][1]])\n",
    "    plt.axis('off')"
   ]
  },
  {
   "cell_type": "code",
   "execution_count": null,
   "id": "116a734b",
   "metadata": {},
   "outputs": [],
   "source": [
    "get_prediction(1033675)"
   ]
  },
  {
   "cell_type": "code",
   "execution_count": null,
   "id": "30c6c639",
   "metadata": {},
   "outputs": [],
   "source": [
    "get_prediction(np.random.randint(0, len(dataset)))"
   ]
  },
  {
   "cell_type": "code",
   "execution_count": null,
   "id": "be5c91da",
   "metadata": {
    "scrolled": true
   },
   "outputs": [],
   "source": [
    "class_name"
   ]
  },
  {
   "cell_type": "code",
   "execution_count": null,
   "id": "b12cfc51",
   "metadata": {
    "scrolled": true
   },
   "outputs": [],
   "source": [
    "x.shape"
   ]
  },
  {
   "cell_type": "markdown",
   "id": "b10eed0f",
   "metadata": {},
   "source": [
    "### Specific Analysis"
   ]
  },
  {
   "cell_type": "code",
   "execution_count": null,
   "id": "174883b2",
   "metadata": {
    "scrolled": false
   },
   "outputs": [],
   "source": [
    "completely_wrong = list(dfx[dfx.pred_prob_for_true_class < 0.01]['index'].apply(lambda x: x.item()))"
   ]
  },
  {
   "cell_type": "code",
   "execution_count": null,
   "id": "607ebcbd",
   "metadata": {
    "scrolled": true
   },
   "outputs": [],
   "source": [
    "get_prediction(completely_wrong[np.random.randint(0,len(completely_wrong))])"
   ]
  },
  {
   "cell_type": "markdown",
   "id": "c3844255",
   "metadata": {},
   "source": [
    "## Correlation"
   ]
  },
  {
   "cell_type": "code",
   "execution_count": null,
   "id": "c584cc7b",
   "metadata": {},
   "outputs": [],
   "source": [
    "corr = dfx[dataset.classes][dfx.pred_prob_for_true_class < 0.8].corr()\n",
    "corr.style.background_gradient(cmap='coolwarm')\n"
   ]
  },
  {
   "cell_type": "code",
   "execution_count": null,
   "id": "97a659c6",
   "metadata": {},
   "outputs": [],
   "source": [
    "# resulting pdf would be 500MB+\n",
    "#fig = pd.plotting.scatter_matrix(dfx[dataset.classes], alpha=0.2, diagonal='kde', figsize=(20,20))\n",
    "#plt.savefig(\"scattermatrix.pdf\")"
   ]
  },
  {
   "cell_type": "code",
   "execution_count": null,
   "id": "315d4202",
   "metadata": {},
   "outputs": [],
   "source": [
    "#https://towardsdatascience.com/better-heatmaps-and-correlation-matrix-plots-in-python-41445d0f2bec\n",
    "def heatmap(x, y, **kwargs):\n",
    "    if 'color' in kwargs:\n",
    "        color = kwargs['color']\n",
    "    else:\n",
    "        color = [1]*len(x)\n",
    "\n",
    "    if 'palette' in kwargs:\n",
    "        palette = kwargs['palette']\n",
    "        n_colors = len(palette)\n",
    "    else:\n",
    "        n_colors = 256 # Use 256 colors for the diverging color palette\n",
    "        palette = sb.color_palette(\"Blues\", n_colors) \n",
    "\n",
    "    if 'color_range' in kwargs:\n",
    "        color_min, color_max = kwargs['color_range']\n",
    "    else:\n",
    "        color_min, color_max = min(color), max(color) # Range of values that will be mapped to the palette, i.e. min and max possible correlation\n",
    "\n",
    "    def value_to_color(val):\n",
    "        if color_min == color_max:\n",
    "            return palette[-1]\n",
    "        else:\n",
    "            val_position = float((val - color_min)) / (color_max - color_min) # position of value in the input range, relative to the length of the input range\n",
    "            val_position = min(max(val_position, 0), 1) # bound the position betwen 0 and 1\n",
    "            ind = int(val_position * (n_colors - 1)) # target index in the color palette\n",
    "            return palette[ind]\n",
    "\n",
    "    if 'size' in kwargs:\n",
    "        size = kwargs['size']\n",
    "    else:\n",
    "        size = [1]*len(x)\n",
    "\n",
    "    if 'size_range' in kwargs:\n",
    "        size_min, size_max = kwargs['size_range'][0], kwargs['size_range'][1]\n",
    "    else:\n",
    "        size_min, size_max = min(size), max(size)\n",
    "\n",
    "    size_scale = kwargs.get('size_scale', 500)\n",
    "\n",
    "    def value_to_size(val):\n",
    "        if size_min == size_max:\n",
    "            return 1 * size_scale\n",
    "        else:\n",
    "            val_position = (val - size_min) * 0.99 / (size_max - size_min) + 0.01 # position of value in the input range, relative to the length of the input range\n",
    "            val_position = min(max(val_position, 0), 1) # bound the position betwen 0 and 1\n",
    "            return val_position * size_scale\n",
    "    if 'x_order' in kwargs: \n",
    "        x_names = [t for t in kwargs['x_order']]\n",
    "    else:\n",
    "        x_names = [t for t in sorted(set([v for v in x]))]\n",
    "    x_to_num = {p[1]:p[0] for p in enumerate(x_names)}\n",
    "\n",
    "    if 'y_order' in kwargs: \n",
    "        y_names = [t for t in kwargs['y_order']]\n",
    "    else:\n",
    "        y_names = [t for t in sorted(set([v for v in y]))]\n",
    "    y_to_num = {p[1]:p[0] for p in enumerate(y_names)}\n",
    "\n",
    "    plot_grid = plt.GridSpec(1, 15, hspace=0.2, wspace=0.1) # Setup a 1x10 grid\n",
    "    ax = plt.subplot(plot_grid[:,:-1]) # Use the left 14/15ths of the grid for the main plot\n",
    "\n",
    "    marker = kwargs.get('marker', 's')\n",
    "\n",
    "    kwargs_pass_on = {k:v for k,v in kwargs.items() if k not in [\n",
    "         'color', 'palette', 'color_range', 'size', 'size_range', 'size_scale', 'marker', 'x_order', 'y_order'\n",
    "    ]}\n",
    "\n",
    "    ax.scatter(\n",
    "        x=[x_to_num[v] for v in x],\n",
    "        y=[y_to_num[v] for v in y],\n",
    "        marker=marker,\n",
    "        s=[value_to_size(v) for v in size], \n",
    "        c=[value_to_color(v) for v in color],\n",
    "        **kwargs_pass_on\n",
    "    )\n",
    "    ax.set_xticks([v for k,v in x_to_num.items()])\n",
    "    ax.set_xticklabels([k for k in x_to_num], rotation=45, horizontalalignment='right')\n",
    "    ax.set_yticks([v for k,v in y_to_num.items()])\n",
    "    ax.set_yticklabels([k for k in y_to_num])\n",
    "\n",
    "    ax.grid(False, 'major')\n",
    "    ax.grid(True, 'minor')\n",
    "    ax.set_xticks([t + 0.5 for t in ax.get_xticks()], minor=True)\n",
    "    ax.set_yticks([t + 0.5 for t in ax.get_yticks()], minor=True)\n",
    "\n",
    "    ax.set_xlim([-0.5, max([v for v in x_to_num.values()]) + 0.5])\n",
    "    ax.set_ylim([-0.5, max([v for v in y_to_num.values()]) + 0.5])\n",
    "    ax.set_facecolor('#F1F1F1')\n",
    "\n",
    "    # Add color legend on the right side of the plot\n",
    "    if color_min < color_max:\n",
    "        ax = plt.subplot(plot_grid[:,-1]) # Use the rightmost column of the plot\n",
    "\n",
    "        col_x = [0]*len(palette) # Fixed x coordinate for the bars\n",
    "        bar_y=np.linspace(color_min, color_max, n_colors) # y coordinates for each of the n_colors bars\n",
    "\n",
    "        bar_height = bar_y[1] - bar_y[0]\n",
    "        ax.barh(\n",
    "            y=bar_y,\n",
    "            width=[5]*len(palette), # Make bars 5 units wide\n",
    "            left=col_x, # Make bars start at 0\n",
    "            height=bar_height,\n",
    "            color=palette,\n",
    "            linewidth=0\n",
    "        )\n",
    "        ax.set_xlim(1, 2) # Bars are going from 0 to 5, so lets crop the plot somewhere in the middle\n",
    "        ax.grid(False) # Hide grid\n",
    "        ax.set_facecolor('white') # Make background white\n",
    "        ax.set_xticks([]) # Remove horizontal ticks\n",
    "        ax.set_yticks(np.linspace(min(bar_y), max(bar_y), 3)) # Show vertical ticks for min, middle and max\n",
    "        ax.yaxis.tick_right() # Show vertical ticks on the right \n",
    "\n",
    "\n",
    "def corrplot(data, size_scale=500, marker='s'):\n",
    "    corr = pd.melt(data.reset_index(), id_vars='index')\n",
    "    corr.columns = ['x', 'y', 'value']\n",
    "    heatmap(\n",
    "        corr['x'], corr['y'],\n",
    "        color=corr['value'], color_range=[-1, 1],\n",
    "        palette=sb.diverging_palette(20, 220, n=256),\n",
    "        size=corr['value'].abs(), size_range=[0,1],\n",
    "        marker=marker,\n",
    "        x_order=data.columns,\n",
    "        y_order=data.columns[::-1],\n",
    "        size_scale=size_scale\n",
    "    )"
   ]
  },
  {
   "cell_type": "code",
   "execution_count": null,
   "id": "08f3785e",
   "metadata": {},
   "outputs": [],
   "source": [
    "dfx[dataset.classes].corr()"
   ]
  },
  {
   "cell_type": "code",
   "execution_count": null,
   "id": "c1b31eb8",
   "metadata": {},
   "outputs": [],
   "source": [
    "plt.figure(figsize=(10, 10))\n",
    "corrplot(dfx[dataset.classes][dfx.pred_prob_for_true_class < 0.8].corr())"
   ]
  },
  {
   "cell_type": "markdown",
   "id": "f8bbec27",
   "metadata": {},
   "source": [
    "\n",
    "\n",
    "\n",
    "\n",
    "\n",
    "\n",
    "\n",
    "\n",
    "\n",
    "\n",
    "\n",
    "\n",
    "\n",
    "\n",
    "\n",
    "\n",
    "\n",
    "\n",
    "\n",
    "\n",
    "\n",
    "\n",
    "\n",
    "\n",
    "\n",
    "\n",
    "\n",
    "\n",
    "\n",
    "\n",
    "\n",
    "\n",
    "\n"
   ]
  }
 ],
 "metadata": {
  "kernelspec": {
   "display_name": "Python [conda env:collaiborate]",
   "language": "python",
   "name": "conda-env-collaiborate-py"
  },
  "language_info": {
   "codemirror_mode": {
    "name": "ipython",
    "version": 3
   },
   "file_extension": ".py",
   "mimetype": "text/x-python",
   "name": "python",
   "nbconvert_exporter": "python",
   "pygments_lexer": "ipython3",
   "version": "3.9.7"
  }
 },
 "nbformat": 4,
 "nbformat_minor": 5
}
