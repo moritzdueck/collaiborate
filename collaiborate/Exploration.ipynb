{
 "cells": [
  {
   "cell_type": "code",
   "execution_count": 1,
   "id": "1b054929",
   "metadata": {},
   "outputs": [
    {
     "data": {
      "text/plain": [
       "<torch._C.Generator at 0x7f87cd373d50>"
      ]
     },
     "execution_count": 1,
     "metadata": {},
     "output_type": "execute_result"
    }
   ],
   "source": [
    "from typing import List, Optional\n",
    "import urllib.request\n",
    "from tqdm import tqdm\n",
    "from pathlib import Path\n",
    "import requests\n",
    "import torch\n",
    "import math\n",
    "import numpy as np\n",
    "import os\n",
    "import glob\n",
    "import matplotlib.pyplot as plt\n",
    "import random\n",
    "from torch.utils.tensorboard import SummaryWriter\n",
    "from torch.utils.data import DataLoader\n",
    "\n",
    "\n",
    "\n",
    "torch.manual_seed(0)\n",
    "random.seed(0)\n",
    "np.random.seed(0)\n",
    "\n",
    "def seed_worker(worker_id):\n",
    "    worker_seed = torch.initial_seed() % 2**32\n",
    "    numpy.random.seed(worker_seed)\n",
    "    random.seed(worker_seed)\n",
    "\n",
    "g = torch.Generator()\n",
    "g.manual_seed(0)\n"
   ]
  },
  {
   "cell_type": "markdown",
   "id": "b1c9c82d",
   "metadata": {},
   "source": [
    "# Setup and Exploration"
   ]
  },
  {
   "cell_type": "code",
   "execution_count": 3,
   "id": "00b39dad",
   "metadata": {},
   "outputs": [],
   "source": [
    "def download_quickdraw_dataset(root=\"../data/npy\", class_names: List[str]=None):\n",
    "    root = Path(root)\n",
    "    root.mkdir(exist_ok=True, parents=True)\n",
    "    url = 'https://storage.googleapis.com/quickdraw_dataset/full/numpy_bitmap/'\n",
    "\n",
    "    print(\"Downloading Quickdraw Dataset...\")\n",
    "    for class_name in tqdm(class_names, leave=True):\n",
    "        fpath = root / f\"{class_name}.npy\"\n",
    "        if not fpath.exists():\n",
    "            urllib.request.urlretrieve(f\"{url}{urllib.parse.quote(class_name, safe='')}.npy\", fpath)\n",
    "\n",
    "\n",
    "def load_quickdraw_data(root=\"../data/npy\", max_items_per_class=5000):\n",
    "    all_files = Path(root).glob('*.npy')\n",
    "\n",
    "    x = np.empty([0, 784], dtype=np.uint8)\n",
    "    y = np.empty([0], dtype=np.long)\n",
    "    class_names = []\n",
    "\n",
    "    print(f\"Loading {max_items_per_class} examples for each class from the Quickdraw Dataset...\")\n",
    "    for idx, file in enumerate(tqdm(sorted(all_files))):\n",
    "        data = np.load(file, mmap_mode='r')\n",
    "        data = data[0: max_items_per_class, :]\n",
    "        labels = np.full(data.shape[0], idx)\n",
    "        x = np.concatenate((x, data), axis=0)\n",
    "        y = np.append(y, labels)\n",
    "\n",
    "        class_names.append(file.stem)\n",
    "\n",
    "    return x, y, class_names\n",
    "\n",
    "\n",
    "class QuickDrawDataset(torch.utils.data.Dataset):\n",
    "    def __init__(self, root, max_items_per_class=5000, class_limit=None):\n",
    "        super().__init__()\n",
    "        self.root = root\n",
    "        self.max_items_per_class = max_items_per_class\n",
    "        self.class_limit = class_limit\n",
    "\n",
    "        self.X, self.Y, self.classes = load_quickdraw_data(self.root, self.max_items_per_class)\n",
    "\n",
    "    def __getitem__(self, idx):\n",
    "        x = (self.X[idx] / 255.).astype(np.float32).reshape(1, 28, 28)\n",
    "        y = self.Y[idx]\n",
    "\n",
    "        return torch.from_numpy(x), y.item()\n",
    "\n",
    "    def __len__(self):\n",
    "        return len(self.X)\n",
    "\n",
    "    def collate_fn(self, batch):\n",
    "        x = torch.stack([item[0] for item in batch])\n",
    "        y = torch.LongTensor([item[1] for item in batch])\n",
    "        return {'pixel_values': x, 'labels': y}\n",
    "    \n",
    "    def split(self, pct=0.1):\n",
    "        num_classes = len(self.classes)\n",
    "        indices = torch.randperm(len(self)).tolist()\n",
    "        n_val = math.floor(len(indices) * pct)\n",
    "        train_ds = torch.utils.data.Subset(self, indices[:-n_val])\n",
    "        val_ds = torch.utils.data.Subset(self, indices[-n_val:])\n",
    "        return train_ds, val_ds\n",
    "    \n",
    "    def draw_image(self, idx):\n",
    "        plt.figure()\n",
    "        plt.imshow(self[0][0].reshape(28,28,1), cmap='Greys')\n",
    "        plt.title(self.classes[self[0][1]])\n",
    "        plt.show()\n",
    "        \n",
    "    def draw_mean_image(self, label):\n",
    "        images = []\n",
    "        for idx, drawing in enumerate(self):\n",
    "            if drawing[1] == label:\n",
    "                images.append(drawing[0].numpy())\n",
    "\n",
    "        mean_img = np.mean(np.array(images), axis=0)\n",
    "        plt.figure()\n",
    "        plt.imshow(mean_img.reshape(28,28,1), cmap='Greys')\n",
    "        plt.title(self.classes[label])\n",
    "        plt.show()"
   ]
  },
  {
   "cell_type": "code",
   "execution_count": 4,
   "id": "a8c2630b",
   "metadata": {
    "scrolled": false
   },
   "outputs": [
    {
     "name": "stdout",
     "output_type": "stream",
     "text": [
      "Downloading Quickdraw Dataset...\n"
     ]
    },
    {
     "name": "stderr",
     "output_type": "stream",
     "text": [
      "100%|█████████████████████████████████████████████████████████████████████████████████████████████████████████████████████████████████████████████████████████████████████████████████████████████████████████████████████████████| 15/15 [00:22<00:00,  1.53s/it]\n"
     ]
    }
   ],
   "source": [
    "download_quickdraw_dataset(class_names = \n",
    "    ['airplane', 'apple', 'wine bottle', 'car', 'mouth', 'pineapple', 'umbrella', 'pear', 'moustache', 'smiley face']\n",
    "    + ['train', 'mosquito', 'bee', 'dragon', 'piano']\n",
    ")"
   ]
  },
  {
   "cell_type": "code",
   "execution_count": 5,
   "id": "239d2bfe",
   "metadata": {},
   "outputs": [
    {
     "name": "stderr",
     "output_type": "stream",
     "text": [
      "/var/folders/fj/ycvwjvdn2cn32t7zm3h8jlq80000gn/T/ipykernel_48369/4157295013.py:17: DeprecationWarning: `np.long` is a deprecated alias for `np.compat.long`. To silence this warning, use `np.compat.long` by itself. In the likely event your code does not need to work on Python 2 you can use the builtin `int` for which `np.compat.long` is itself an alias. Doing this will not modify any behaviour and is safe. When replacing `np.long`, you may wish to use e.g. `np.int64` or `np.int32` to specify the precision. If you wish to review your current use, check the release note link for additional information.\n",
      "Deprecated in NumPy 1.20; for more details and guidance: https://numpy.org/devdocs/release/1.20.0-notes.html#deprecations\n",
      "  y = np.empty([0], dtype=np.long)\n"
     ]
    },
    {
     "name": "stdout",
     "output_type": "stream",
     "text": [
      "Loading 5000 examples for each class from the Quickdraw Dataset...\n"
     ]
    },
    {
     "name": "stderr",
     "output_type": "stream",
     "text": [
      "100%|█████████████████████████████████████████████████████████████████████████████████████████████████████████████████████████████████████████████████████████████████████████████████████████████████████████████████████████████| 15/15 [00:01<00:00, 14.61it/s]\n"
     ]
    }
   ],
   "source": [
    "dataset = QuickDrawDataset(root = '../data/npy')"
   ]
  },
  {
   "cell_type": "code",
   "execution_count": 6,
   "id": "d00664cb",
   "metadata": {},
   "outputs": [],
   "source": [
    "import torch.nn as nn\n",
    "import torch.nn.functional as F\n",
    "\n",
    "\n",
    "class SimpleCNN(nn.Module):\n",
    "    def __init__(self, num_classes):\n",
    "        super().__init__()\n",
    "        self.conv1 = nn.Conv2d(1, 64, 3)\n",
    "        self.conv2 = nn.Conv2d(64, 128, 3)\n",
    "        self.conv3 = nn.Conv2d(128, 256, 3)\n",
    "        self.fc1 = nn.Linear(2304, 512)\n",
    "        self.fc2 = nn.Linear(512, num_classes)\n",
    "        self.pool = nn.MaxPool2d(2)\n",
    "\n",
    "\n",
    "\n",
    "    def forward(self, x):\n",
    "        x = self.pool(F.relu(self.conv1(x)))\n",
    "        x = self.pool(F.relu(self.conv2(x)))\n",
    "        x = self.pool(F.relu(self.conv3(x)))\n",
    "\n",
    "        x = torch.flatten(x, 1) # flatten all dimensions except batch\n",
    "        x = F.relu(self.fc1(x))\n",
    "        x = F.relu(self.fc2(x))\n",
    "        x = self.fc3(x)\n",
    "        return x\n"
   ]
  },
  {
   "cell_type": "code",
   "execution_count": 7,
   "id": "f55a5746",
   "metadata": {
    "scrolled": true
   },
   "outputs": [
    {
     "name": "stdout",
     "output_type": "stream",
     "text": [
      "airplane : 0\n",
      "apple : 1\n",
      "bee : 2\n",
      "car : 3\n",
      "dragon : 4\n",
      "mosquito : 5\n",
      "moustache : 6\n",
      "mouth : 7\n",
      "pear : 8\n",
      "piano : 9\n",
      "pineapple : 10\n",
      "smiley face : 11\n",
      "train : 12\n",
      "umbrella : 13\n",
      "wine bottle : 14\n"
     ]
    }
   ],
   "source": [
    "for c in dataset.classes:\n",
    "    print(f\"{c} : {dataset.classes.index(c)}\")\n"
   ]
  },
  {
   "cell_type": "markdown",
   "id": "1c591d14",
   "metadata": {},
   "source": [
    "## Convergent Examples"
   ]
  },
  {
   "cell_type": "code",
   "execution_count": 12,
   "id": "97dafeda",
   "metadata": {},
   "outputs": [
    {
     "data": {
      "image/png": "[encoded data removed]",
      "text/plain": [
       "<Figure size 640x480 with 1 Axes>"
      ]
     },
     "metadata": {},
     "output_type": "display_data"
    }
   ],
   "source": [
    "dataset.draw_mean_image(1)"
   ]
  },
  {
   "cell_type": "code",
   "execution_count": 13,
   "id": "469d8228",
   "metadata": {},
   "outputs": [
    {
     "data": {
      "image/png": "[encoded data removed]",
      "text/plain": [
       "<Figure size 640x480 with 1 Axes>"
      ]
     },
     "metadata": {},
     "output_type": "display_data"
    }
   ],
   "source": [
    "dataset.draw_mean_image(7)"
   ]
  },
  {
   "cell_type": "markdown",
   "id": "8c001488",
   "metadata": {},
   "source": [
    "## Divergent Examples"
   ]
  },
  {
   "cell_type": "code",
   "execution_count": 16,
   "id": "0a68da42",
   "metadata": {
    "scrolled": true
   },
   "outputs": [
    {
     "data": {
      "image/png": "[encoded data removed]",
      "text/plain": [
       "<Figure size 640x480 with 1 Axes>"
      ]
     },
     "metadata": {},
     "output_type": "display_data"
    }
   ],
   "source": [
    "dataset.draw_mean_image(2)"
   ]
  },
  {
   "cell_type": "code",
   "execution_count": 17,
   "id": "444a0d55",
   "metadata": {},
   "outputs": [
    {
     "data": {
      "image/png": "[encoded data removed]",
      "text/plain": [
       "<Figure size 640x480 with 1 Axes>"
      ]
     },
     "metadata": {},
     "output_type": "display_data"
    }
   ],
   "source": [
    "dataset.draw_mean_image(4)"
   ]
  },
  {
   "cell_type": "markdown",
   "id": "484c5f29",
   "metadata": {},
   "source": [
    "## Training"
   ]
  },
  {
   "cell_type": "code",
   "execution_count": null,
   "id": "34d3c52d",
   "metadata": {},
   "outputs": [],
   "source": [
    "train_val_split = 0.2\n",
    "learning_rate = 0.001\n",
    "epochs = 30\n",
    "batch_size = 128\n",
    "experiment_name = 'test1'\n",
    "\n",
    "\n",
    "writer = SummaryWriter()\n",
    "\n",
    "dataset = QuickDrawDataset(root = './data')\n",
    "train_ds, val_ds = dataset.split(train_val_split)\n",
    "\n",
    "train_dataloader = DataLoader(train_ds, batch_size=batch_size, shuffle=True)\n",
    "validation_dataloader = DataLoader(val_ds, batch_size=batch_size, shuffle=True)\n",
    "\n",
    "criterion = torch.nn.CrossEntropyLoss() \n",
    "model = nn.Sequential(\n",
    "    nn.Conv2d(1, 64, 3, padding='same'),\n",
    "    nn.ReLU(),\n",
    "    nn.MaxPool2d(2),\n",
    "    nn.Conv2d(64, 128, 3, padding='same'),\n",
    "    nn.ReLU(),\n",
    "    nn.MaxPool2d(2),\n",
    "    nn.Conv2d(128, 256, 3, padding='same'),\n",
    "    nn.ReLU(),\n",
    "    nn.MaxPool2d(2),\n",
    "    nn.Flatten(),\n",
    "    nn.Linear(2304, 512),\n",
    "    nn.ReLU(),\n",
    "    nn.Linear(512, len(dataset.classes)),\n",
    ")\n",
    "#model = SimpleCNN(len(dataset.classes))\n",
    "\n",
    "\n",
    "device = torch.device('cuda' if torch.cuda.is_available() else 'cpu')\n",
    "print(device)\n",
    "model = model.to(device)\n",
    "optimizer = torch.optim.Adam(model.parameters(), lr=learning_rate)\n",
    "\n",
    "for epoch in tqdm(range(epochs)):  # loop over the dataset multiple times\n",
    "\n",
    "    train_loss = 0.0\n",
    "    valid_loss = 0.0\n",
    "\n",
    "    for i, batch in enumerate(train_dataloader, 0):\n",
    "        x, y = batch\n",
    "        x = x.to(device)\n",
    "        y = y.to(device)\n",
    "        logits = model(x)\n",
    "        #y = y.unsqueeze(1)\n",
    "\n",
    "        # zero the parameter gradients\n",
    "        optimizer.zero_grad()\n",
    "\n",
    "        # forward + backward + optimize\n",
    "        loss = criterion(logits.to(device), y.to(device))\n",
    "        loss.backward()\n",
    "        optimizer.step()\n",
    "\n",
    "        train_loss += loss.item() * batch_size\n",
    "        writer.add_scalar(\"Loss/train_iteration\", loss.item(), epoch * len(train_dataloader) + i)\n",
    "\n",
    "    model.eval()\n",
    "\n",
    "    for i, batch in enumerate(validation_dataloader, 0):\n",
    "        x, y = batch\n",
    "        x = x.to(device)\n",
    "        y = y.to(device)\n",
    "        logits = model(x)\n",
    "\n",
    "        loss = criterion(logits.to(device), y.to(device))\n",
    "\n",
    "        valid_loss += loss.item() * batch_size\n",
    "\n",
    "    model.train()\n",
    "\n",
    "\n",
    "    writer.add_scalar(\"Loss/train\", train_loss/len(train_dataloader.sampler), epoch)\n",
    "    writer.add_scalar(\"Loss/test\", valid_loss/len(validation_dataloader.sampler), epoch)\n",
    "    writer.flush()\n",
    "\n",
    "\n",
    "torch.save(model.state_dict(), './model_'+experiment_name+'.pth')\n",
    "writer.close()\n"
   ]
  },
  {
   "cell_type": "markdown",
   "id": "05e14a5c",
   "metadata": {},
   "source": [
    "## Higher Resolution if needed "
   ]
  },
  {
   "cell_type": "code",
   "execution_count": 18,
   "id": "988a8ef0",
   "metadata": {},
   "outputs": [],
   "source": [
    "def download_quickdraw_dataset_binary(root=\"./data/binary\", class_names: List[str]=None):\n",
    "    root = Path(root)\n",
    "    root.mkdir(exist_ok=True, parents=True)\n",
    "    url = 'https://storage.googleapis.com/quickdraw_dataset/full/binary/'\n",
    "\n",
    "    print(\"Downloading Quickdraw Dataset...\")\n",
    "    for class_name in tqdm(class_names, leave=True):\n",
    "        fpath = root / f\"{class_name}.bin\"\n",
    "        if not fpath.exists():\n",
    "            urllib.request.urlretrieve(f\"{url}{urllib.parse.quote(class_name, safe='')}.bin\", fpath)"
   ]
  },
  {
   "cell_type": "code",
   "execution_count": 19,
   "id": "679f3610",
   "metadata": {},
   "outputs": [
    {
     "name": "stdout",
     "output_type": "stream",
     "text": [
      "Downloading Quickdraw Dataset...\n"
     ]
    },
    {
     "name": "stderr",
     "output_type": "stream",
     "text": [
      "100%|█████████████████████████████████████████████████████████████████████████████████████████████████████████████████████████████████████████████████████████████████████████████████████████████████████████████████████████████| 1/1 [00:00<00:00, 2353.71it/s]\n"
     ]
    }
   ],
   "source": [
    "download_quickdraw_dataset_binary(class_names = ['train'])"
   ]
  },
  {
   "cell_type": "code",
   "execution_count": 20,
   "id": "57838d40",
   "metadata": {
    "scrolled": false
   },
   "outputs": [],
   "source": [
    "import struct\n",
    "from struct import unpack\n",
    "import numpy as np\n",
    "import cairocffi as cairo\n",
    "\n",
    "\n",
    "def unpack_drawing(file_handle):\n",
    "    key_id, = unpack('Q', file_handle.read(8))\n",
    "    country_code, = unpack('2s', file_handle.read(2))\n",
    "    recognized, = unpack('b', file_handle.read(1))\n",
    "    timestamp, = unpack('I', file_handle.read(4))\n",
    "    n_strokes, = unpack('H', file_handle.read(2))\n",
    "    image = []\n",
    "    for i in range(n_strokes):\n",
    "        n_points, = unpack('H', file_handle.read(2))\n",
    "        fmt = str(n_points) + 'B'\n",
    "        x = unpack(fmt, file_handle.read(n_points))\n",
    "        y = unpack(fmt, file_handle.read(n_points))\n",
    "        image.append((x, y))\n",
    "\n",
    "    return {\n",
    "        'key_id': key_id,\n",
    "        'country_code': country_code,\n",
    "        'recognized': recognized,\n",
    "        'timestamp': timestamp,\n",
    "        'image': image\n",
    "    }\n",
    "\n",
    "\n",
    "def unpack_drawings(filename):\n",
    "    with open(filename, 'rb') as f:\n",
    "        while True:\n",
    "            try:\n",
    "                yield unpack_drawing(f)\n",
    "            except struct.error:\n",
    "                break\n",
    "\n",
    "def vector_to_raster(vector_images, side=128, line_diameter=16, padding=16, bg_color=(0,0,0), fg_color=(1,1,1)):\n",
    "    \"\"\"\n",
    "    padding and line_diameter are relative to the original 256x256 image.\n",
    "    \"\"\"\n",
    "    \n",
    "    original_side = 256.\n",
    "    \n",
    "    surface = cairo.ImageSurface(cairo.FORMAT_ARGB32, side, side)\n",
    "    ctx = cairo.Context(surface)\n",
    "    ctx.set_antialias(cairo.ANTIALIAS_BEST)\n",
    "    ctx.set_line_cap(cairo.LINE_CAP_ROUND)\n",
    "    ctx.set_line_join(cairo.LINE_JOIN_ROUND)\n",
    "    ctx.set_line_width(line_diameter)\n",
    "\n",
    "    # scale to match the new size\n",
    "    # add padding at the edges for the line_diameter\n",
    "    # and add additional padding to account for antialiasing\n",
    "    total_padding = padding * 2. + line_diameter\n",
    "    new_scale = float(side) / float(original_side + total_padding)\n",
    "    ctx.scale(new_scale, new_scale)\n",
    "    ctx.translate(total_padding / 2., total_padding / 2.)\n",
    "\n",
    "    raster_images = []\n",
    "    for vector_image in vector_images:\n",
    "        # clear background\n",
    "        ctx.set_source_rgb(*bg_color)\n",
    "        ctx.paint()\n",
    "        \n",
    "        bbox = np.hstack(vector_image).max(axis=1)\n",
    "        offset = ((original_side, original_side) - bbox) / 2.\n",
    "        offset = offset.reshape(-1,1)\n",
    "        centered = [stroke + offset for stroke in vector_image]\n",
    "\n",
    "        # draw strokes, this is the most cpu-intensive part\n",
    "        ctx.set_source_rgb(*fg_color)        \n",
    "        for xv, yv in centered:\n",
    "            ctx.move_to(xv[0], yv[0])\n",
    "            for x, y in zip(xv, yv):\n",
    "                ctx.line_to(x, y)\n",
    "            ctx.stroke()\n",
    "\n",
    "        data = surface.get_data()\n",
    "        raster_image = np.copy(np.asarray(data)[::4])\n",
    "        raster_images.append(raster_image)\n",
    "    \n",
    "    return raster_images"
   ]
  },
  {
   "cell_type": "code",
   "execution_count": 21,
   "id": "099531db",
   "metadata": {},
   "outputs": [
    {
     "name": "stdout",
     "output_type": "stream",
     "text": [
      "dict_keys(['key_id', 'country_code', 'recognized', 'timestamp', 'image'])\n"
     ]
    }
   ],
   "source": [
    "image = None\n",
    "for y in unpack_drawings('./data/binary/train.bin'):\n",
    "    print(y.keys())\n",
    "    image = y['image']\n",
    "    break"
   ]
  },
  {
   "cell_type": "code",
   "execution_count": 22,
   "id": "49fef7ca",
   "metadata": {},
   "outputs": [],
   "source": [
    "myimg = vector_to_raster([image])"
   ]
  },
  {
   "cell_type": "code",
   "execution_count": 23,
   "id": "d783d941",
   "metadata": {},
   "outputs": [],
   "source": [
    "myimg = np.array(myimg).reshape(128,128,1)"
   ]
  },
  {
   "cell_type": "code",
   "execution_count": 24,
   "id": "4f05404f",
   "metadata": {
    "scrolled": true
   },
   "outputs": [
    {
     "data": {
      "image/png": "[encoded data removed]",
      "text/plain": [
       "<Figure size 640x480 with 1 Axes>"
      ]
     },
     "metadata": {},
     "output_type": "display_data"
    }
   ],
   "source": [
    "import matplotlib.pyplot as plt\n",
    "plt.figure()\n",
    "plt.imshow(myimg, cmap='Greys')\n",
    "plt.title(myimg.shape)\n",
    "plt.show()"
   ]
  }
 ],
 "metadata": {
  "kernelspec": {
   "display_name": "Python [conda env:quickdraw] *",
   "language": "python",
   "name": "conda-env-quickdraw-py"
  },
  "language_info": {
   "codemirror_mode": {
    "name": "ipython",
    "version": 3
   },
   "file_extension": ".py",
   "mimetype": "text/x-python",
   "name": "python",
   "nbconvert_exporter": "python",
   "pygments_lexer": "ipython3",
   "version": "3.9.7"
  }
 },
 "nbformat": 4,
 "nbformat_minor": 5
}
